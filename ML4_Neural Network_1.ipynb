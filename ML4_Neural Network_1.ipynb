{
 "cells": [
  {
   "cell_type": "code",
   "execution_count": 3,
   "metadata": {},
   "outputs": [],
   "source": [
    "import random\n",
    "import numpy as np\n",
    "\n",
    "def sigma(z):\n",
    "    return 0.5*(np.tanh(0.5*z)+1.)\n",
    "def sigma_p(z):\n",
    "    return sigma(z)*(1.-sigma(z))\n",
    "\n",
    "class neurons(object):\n",
    "    def __init__(self, shape):\n",
    "        self.shape = shape\n",
    "        self.v = [np.zeros((n,1)) for n in shape]\n",
    "        self.z = [np.zeros((n,1)) for n in shape[1:]]\n",
    "        self.w = [np.random.randn(n,m) for n,m in zip(shape[1:],shape[:-1])]\n",
    "        self.b = [np.random.randn(n,1) for n in shape[1:]]\n",
    "        self.delw = [np.zeros(w.shape) for w in self.w]\n",
    "        self.delb = [np.zeros(b.shape) for b in self.b]\n",
    "\n",
    "    def predict(self, x):\n",
    "        self.v[0] = x.reshape(self.v[0].shape)\n",
    "        for l in range(len(self.shape)-1):\n",
    "            self.z[l] = np.dot(self.w[l],self.v[l])+self.b[l]\n",
    "            self.v[l+1] = sigma(self.z[l])\n",
    "        return self.v[-1]\n",
    "\n",
    "    def gradient(self, y):\n",
    "        for l in range(len(self.shape)-2,-1,-1):\n",
    "            if l==len(self.shape)-2:\n",
    "                  delta = (self.v[-1]-y.reshape(self.v[-1].shape))*sigma_p(self.z[l])\n",
    "            else: delta = np.dot(self.w[l+1].T,self.delb[l+1])*sigma_p(self.z[l])\n",
    "            self.delb[l] = delta\n",
    "            self.delw[l] = np.dot(delta,self.v[l].T)\n",
    "\n",
    "    def fit(self, x_data, y_data, epochs, batch_size, eta):\n",
    "        samples = list(zip(x_data, y_data))\n",
    "        for ep in range(epochs):\n",
    "            print('Epoch: %d/%d' % (ep+1,epochs))\n",
    "            random.shuffle(samples)\n",
    "            sum_delw = [np.zeros(w.shape) for w in self.w]\n",
    "            sum_delb = [np.zeros(b.shape) for b in self.b]\n",
    "            batch_count = 0\n",
    "            for x,y in samples:\n",
    "                self.predict(x)\n",
    "                self.gradient(y)\n",
    "                for l in range(len(self.shape)-1):\n",
    "                    sum_delw[l] += self.delw[l]\n",
    "                    sum_delb[l] += self.delb[l]\n",
    "                batch_count += 1\n",
    "                if batch_count>=batch_size or (x is samples[-1][0]):\n",
    "                    for l in range(len(self.shape)-1):\n",
    "                        self.w[l] -= eta/batch_count*sum_delw[l]\n",
    "                        self.b[l] -= eta/batch_count*sum_delb[l]\n",
    "                        sum_delw[l],sum_delb[l] = 0.,0.\n",
    "                    batch_count = 0\n",
    "            ret = self.evaluate(x_data, y_data)\n",
    "            print('Loss: %.4f, Acc: %.4f' % ret)\n",
    "\n",
    "    def evaluate(self, x_data, y_data):\n",
    "        loss, cnt = 0., 0.\n",
    "        for x,y in zip(x_data, y_data):\n",
    "            self.predict(x)\n",
    "            loss += ((self.v[-1]-y.reshape(self.v[-1].shape))**2).sum()\n",
    "            if np.argmax(self.v[-1])==np.argmax(y): cnt += 1.\n",
    "        loss /= 2.*len(x_data)\n",
    "        return loss, cnt/len(x_data)\n"
   ]
  },
  {
   "cell_type": "code",
   "execution_count": 40,
   "metadata": {},
   "outputs": [],
   "source": [
    "shape=np.array([2,5,2])\n",
    "v = [np.zeros((n,1)) for n in shape]"
   ]
  },
  {
   "cell_type": "code",
   "execution_count": 39,
   "metadata": {},
   "outputs": [
    {
     "data": {
      "text/plain": [
       "[array([2, 5]), array([[0.],\n",
       "        [0.],\n",
       "        [0.],\n",
       "        [0.],\n",
       "        [0.]]), array([[0.],\n",
       "        [0.]])]"
      ]
     },
     "execution_count": 39,
     "metadata": {},
     "output_type": "execute_result"
    }
   ],
   "source": [
    "v"
   ]
  },
  {
   "cell_type": "code",
   "execution_count": 15,
   "metadata": {},
   "outputs": [],
   "source": [
    "x=np.array([2,5])"
   ]
  },
  {
   "cell_type": "code",
   "execution_count": 17,
   "metadata": {},
   "outputs": [
    {
     "data": {
      "text/plain": [
       "array([2, 5])"
      ]
     },
     "execution_count": 17,
     "metadata": {},
     "output_type": "execute_result"
    }
   ],
   "source": [
    "x"
   ]
  },
  {
   "cell_type": "code",
   "execution_count": 41,
   "metadata": {},
   "outputs": [],
   "source": [
    "v[0] = x.reshape(v[0].shape)"
   ]
  },
  {
   "cell_type": "code",
   "execution_count": 47,
   "metadata": {},
   "outputs": [
    {
     "name": "stdout",
     "output_type": "stream",
     "text": [
      "0\n",
      "1\n"
     ]
    }
   ],
   "source": [
    "for l in range(3-1):\n",
    "    print(l)"
   ]
  },
  {
   "cell_type": "code",
   "execution_count": null,
   "metadata": {},
   "outputs": [],
   "source": []
  },
  {
   "cell_type": "code",
   "execution_count": null,
   "metadata": {},
   "outputs": [],
   "source": []
  },
  {
   "cell_type": "code",
   "execution_count": null,
   "metadata": {},
   "outputs": [],
   "source": []
  },
  {
   "cell_type": "code",
   "execution_count": null,
   "metadata": {},
   "outputs": [],
   "source": []
  },
  {
   "cell_type": "code",
   "execution_count": null,
   "metadata": {},
   "outputs": [],
   "source": []
  },
  {
   "cell_type": "code",
   "execution_count": null,
   "metadata": {},
   "outputs": [],
   "source": []
  },
  {
   "cell_type": "code",
   "execution_count": 6,
   "metadata": {},
   "outputs": [
    {
     "data": {
      "image/png": "[encoded data removed]",
      "text/plain": [
       "<Figure size 480x480 with 2 Axes>"
      ]
     },
     "metadata": {
      "needs_background": "light"
     },
     "output_type": "display_data"
    }
   ],
   "source": [
    "import numpy as np\n",
    "import matplotlib.pyplot as plt\n",
    "\n",
    "mnist = np.load('mnist.npz')\n",
    "x_train = mnist['x_train'][mnist['y_train']<=1]/255.\n",
    "y_train = mnist['y_train'][mnist['y_train']<=1]\n",
    "\n",
    "x_train = np.array([[img.mean(),img[10:18,11:17].mean()] for img in x_train])\n",
    "y_train = np.array([[[1,0],[0,1]][n] for n in y_train])\n",
    "\n",
    "# from neurons import neurons\n",
    "model = neurons([2,5,2])\n",
    "out = np.array([model.predict(x) for x in x_train])\n",
    "\n",
    "fig = plt.figure(figsize=(6,6), dpi=80)\n",
    "plt.subplot(2,1,1)\n",
    "plt.hist(out[:,0][y_train[:,0]==1], bins=50, color='y')\n",
    "plt.hist(out[:,0][y_train[:,1]==1], bins=50, color='g', alpha=0.5)\n",
    "plt.subplot(2,1,2)\n",
    "plt.hist(out[:,1][y_train[:,0]==1], bins=50, color='y')\n",
    "plt.hist(out[:,1][y_train[:,1]==1], bins=50, color='g', alpha=0.5)\n",
    "plt.show()"
   ]
  },
  {
   "cell_type": "code",
   "execution_count": 50,
   "metadata": {},
   "outputs": [
    {
     "data": {
      "text/plain": [
       "0.19661193324148185"
      ]
     },
     "execution_count": 50,
     "metadata": {},
     "output_type": "execute_result"
    }
   ],
   "source": [
    "for z in \n",
    "    sigma(z)*(1.-sigma(z))"
   ]
  },
  {
   "cell_type": "code",
   "execution_count": 78,
   "metadata": {},
   "outputs": [],
   "source": [
    "c=np.zeros(100)\n",
    "for j in range(0,100):\n",
    "    c[j] = sigma(j-50)"
   ]
  },
  {
   "cell_type": "code",
   "execution_count": 79,
   "metadata": {},
   "outputs": [
    {
     "data": {
      "text/plain": [
       "[<matplotlib.lines.Line2D at 0x229ad639710>]"
      ]
     },
     "execution_count": 79,
     "metadata": {},
     "output_type": "execute_result"
    },
    {
     "data": {
      "image/png": "[encoded data removed]",
      "text/plain": [
       "<Figure size 480x480 with 1 Axes>"
      ]
     },
     "metadata": {
      "needs_background": "light"
     },
     "output_type": "display_data"
    }
   ],
   "source": [
    "import numpy as np\n",
    "import matplotlib.pyplot as plt\n",
    "\n",
    "fig = plt.figure(figsize=(6,6), dpi=80)\n",
    "plt.plot(c)\n"
   ]
  },
  {
   "cell_type": "code",
   "execution_count": 84,
   "metadata": {},
   "outputs": [
    {
     "data": {
      "text/plain": [
       "array([[0, 1]])"
      ]
     },
     "execution_count": 84,
     "metadata": {},
     "output_type": "execute_result"
    }
   ],
   "source": [
    "np.array([[[1,0],[0,1]][1]])"
   ]
  },
  {
   "cell_type": "code",
   "execution_count": null,
   "metadata": {},
   "outputs": [],
   "source": []
  },
  {
   "cell_type": "code",
   "execution_count": null,
   "metadata": {},
   "outputs": [],
   "source": []
  },
  {
   "cell_type": "code",
   "execution_count": 8,
   "metadata": {},
   "outputs": [
    {
     "name": "stdout",
     "output_type": "stream",
     "text": [
      "Optimization terminated successfully.\n",
      "         Current function value: 0.005192\n",
      "         Iterations: 178\n",
      "         Function evaluations: 6061\n",
      "         Gradient evaluations: 209\n",
      "Performance (training): 0.9936044216344255\n"
     ]
    },
    {
     "data": {
      "image/png": "[encoded data removed]",
      "text/plain": [
       "<Figure size 480x480 with 1 Axes>"
      ]
     },
     "metadata": {
      "needs_background": "light"
     },
     "output_type": "display_data"
    }
   ],
   "source": [
    "import numpy as np\n",
    "import matplotlib.pyplot as plt\n",
    "\n",
    "mnist = np.load('mnist.npz')\n",
    "x_train = mnist['x_train'][mnist['y_train']<=1]/255.\n",
    "y_train = mnist['y_train'][mnist['y_train']<=1]\n",
    "\n",
    "x_train = np.array([[img.mean(),img[10:18,11:17].mean()] for img in x_train])\n",
    "y_train = np.array([[[1,0],[0,1]][n] for n in y_train])\n",
    "\n",
    "# from neurons import neurons\n",
    "model = neurons([2,5,2])\n",
    "\n",
    "import scipy.optimize as opt\n",
    "def f(x):\n",
    "    model.w[0] = x[:10].reshape(model.w[0].shape)\n",
    "    model.w[1] = x[10:20].reshape(model.w[1].shape)\n",
    "    model.b[0] = x[20:25].reshape(model.b[0].shape)\n",
    "    model.b[1] = x[25:].reshape(model.b[1].shape)\n",
    "    y = np.array([model.predict(x) for x in x_train]) #每一個data都有兩個outputs\n",
    "    return ((y[:,:,0]-y_train)**2).sum()/len(x_train)/ 2.\n",
    "x_init = np.random.randn(27)\n",
    "res = opt.minimize(f,x_init,options={'disp': True})\n",
    "\n",
    "out = np.array([model.predict(x) for x in x_train])\n",
    "s_train = (np.argmax(out[:,:,0],axis=1)==np.argmax(y_train,axis=1)).sum()/len(y_train)\n",
    "print('Performance (training):', s_train)\n",
    "\n",
    "fig = plt.figure(figsize=(6,6), dpi=80)\n",
    "xv, yv = np.meshgrid(np.linspace(0.,0.45,100),np.linspace(-0.05,1.05,100))\n",
    "zv = np.array([np.argmax(model.predict(x)) for x in np.c_[xv.ravel(), yv.ravel()]])\n",
    "plt.contourf(xv, yv, zv.reshape(xv.shape), alpha=.3, cmap='Blues')\n",
    "plt.scatter(x_train[:,0][y_train[:,0]==1], x_train[:,1][y_train[:,0]==1], c = 'y', s=5, alpha=0.8)\n",
    "plt.scatter(x_train[:,0][y_train[:,1]==1], x_train[:,1][y_train[:,1]==1], c = 'g', s=5, alpha=0.8)\n",
    "plt.show()"
   ]
  },
  {
   "cell_type": "code",
   "execution_count": 100,
   "metadata": {},
   "outputs": [],
   "source": [
    "model = neurons([2,5,2])\n",
    "x_train = mnist['x_train'][mnist['y_train']<=1]/255.\n",
    "x_train = np.array([[img.mean(),img[10:18,11:17].mean()] for img in x_train])\n",
    "\n",
    "y = np.array([model.predict(x) for x in x_train]) "
   ]
  },
  {
   "cell_type": "code",
   "execution_count": 122,
   "metadata": {},
   "outputs": [
    {
     "data": {
      "text/plain": [
       "array([[0.81006815, 0.49392312],\n",
       "       [0.81358053, 0.52416461],\n",
       "       [0.81381736, 0.53205246],\n",
       "       ...,\n",
       "       [0.81358437, 0.5191007 ],\n",
       "       [0.81001282, 0.49899262],\n",
       "       [0.81361894, 0.50912189]])"
      ]
     },
     "execution_count": 122,
     "metadata": {},
     "output_type": "execute_result"
    }
   ],
   "source": [
    "y[:,:,0]"
   ]
  },
  {
   "cell_type": "code",
   "execution_count": null,
   "metadata": {},
   "outputs": [],
   "source": []
  },
  {
   "cell_type": "code",
   "execution_count": null,
   "metadata": {},
   "outputs": [],
   "source": []
  },
  {
   "cell_type": "code",
   "execution_count": 126,
   "metadata": {},
   "outputs": [
    {
     "name": "stdout",
     "output_type": "stream",
     "text": [
      "Optimization terminated successfully.\n",
      "         Current function value: 0.000065\n",
      "         Iterations: 891\n",
      "         Function evaluations: 32538\n",
      "         Gradient evaluations: 986\n"
     ]
    },
    {
     "data": {
      "image/png": "[encoded data removed]",
      "text/plain": [
       "<Figure size 480x480 with 1 Axes>"
      ]
     },
     "metadata": {
      "needs_background": "light"
     },
     "output_type": "display_data"
    }
   ],
   "source": [
    "import numpy as np\n",
    "import matplotlib.pyplot as plt\n",
    "\n",
    "x_train = np.linspace(0.,1.,100)\n",
    "y_train = [x*np.sin(x*np.pi*8.) for x in x_train]\n",
    "\n",
    "# from neurons import neurons\n",
    "model = neurons([1,10,1])\n",
    "\n",
    "import scipy.optimize as opt\n",
    "def f(x):\n",
    "    model.w[0][:] = x[:10].reshape(model.w[0].shape)\n",
    "    model.w[1][:] = x[10:20].reshape(model.w[1].shape)\n",
    "    model.b[0][:] = x[20:30].reshape(model.b[0].shape)\n",
    "    model.b[1][:] = x[30].reshape(model.b[1].shape)\n",
    "    y = []\n",
    "    for x in x_train:\n",
    "        model.predict(x)\n",
    "        y.append(model.z[-1][0,0])\n",
    "    y = np.array(y)\n",
    "    return ((y-y_train)**2).sum()/len(x_train)/2.\n",
    "x_init = np.random.randn(31)\n",
    "res = opt.minimize(f,x_init,options={'disp': True})\n",
    "\n",
    "out = []\n",
    "for x in x_train:\n",
    "    model.predict(x)\n",
    "    out.append(model.z[-1][0,0])\n",
    "fig = plt.figure(figsize=(6,6), dpi=80)\n",
    "plt.plot(x_train, y_train)\n",
    "plt.plot(x_train, out)\n",
    "plt.show()"
   ]
  },
  {
   "cell_type": "code",
   "execution_count": 127,
   "metadata": {},
   "outputs": [
    {
     "data": {
      "text/plain": [
       "array([0.        , 0.01010101, 0.02020202, 0.03030303, 0.04040404,\n",
       "       0.05050505, 0.06060606, 0.07070707, 0.08080808, 0.09090909,\n",
       "       0.1010101 , 0.11111111, 0.12121212, 0.13131313, 0.14141414,\n",
       "       0.15151515, 0.16161616, 0.17171717, 0.18181818, 0.19191919,\n",
       "       0.2020202 , 0.21212121, 0.22222222, 0.23232323, 0.24242424,\n",
       "       0.25252525, 0.26262626, 0.27272727, 0.28282828, 0.29292929,\n",
       "       0.3030303 , 0.31313131, 0.32323232, 0.33333333, 0.34343434,\n",
       "       0.35353535, 0.36363636, 0.37373737, 0.38383838, 0.39393939,\n",
       "       0.4040404 , 0.41414141, 0.42424242, 0.43434343, 0.44444444,\n",
       "       0.45454545, 0.46464646, 0.47474747, 0.48484848, 0.49494949,\n",
       "       0.50505051, 0.51515152, 0.52525253, 0.53535354, 0.54545455,\n",
       "       0.55555556, 0.56565657, 0.57575758, 0.58585859, 0.5959596 ,\n",
       "       0.60606061, 0.61616162, 0.62626263, 0.63636364, 0.64646465,\n",
       "       0.65656566, 0.66666667, 0.67676768, 0.68686869, 0.6969697 ,\n",
       "       0.70707071, 0.71717172, 0.72727273, 0.73737374, 0.74747475,\n",
       "       0.75757576, 0.76767677, 0.77777778, 0.78787879, 0.7979798 ,\n",
       "       0.80808081, 0.81818182, 0.82828283, 0.83838384, 0.84848485,\n",
       "       0.85858586, 0.86868687, 0.87878788, 0.88888889, 0.8989899 ,\n",
       "       0.90909091, 0.91919192, 0.92929293, 0.93939394, 0.94949495,\n",
       "       0.95959596, 0.96969697, 0.97979798, 0.98989899, 1.        ])"
      ]
     },
     "execution_count": 127,
     "metadata": {},
     "output_type": "execute_result"
    }
   ],
   "source": [
    "x_train"
   ]
  },
  {
   "cell_type": "code",
   "execution_count": 137,
   "metadata": {},
   "outputs": [
    {
     "data": {
      "text/plain": [
       "array([[0.00103502]])"
      ]
     },
     "execution_count": 137,
     "metadata": {},
     "output_type": "execute_result"
    }
   ],
   "source": [
    "model.z[-1]"
   ]
  },
  {
   "cell_type": "code",
   "execution_count": 166,
   "metadata": {},
   "outputs": [],
   "source": [
    "import random\n",
    "import numpy as np\n",
    "import scipy.optimize as opt\n",
    "\n",
    "def sigma(z):\n",
    "    return 0.5*(np.tanh(0.5*z)+1.)\n",
    "def sigma_p(z):\n",
    "    return sigma(z)*(1.-sigma(z))\n",
    "\n",
    "class neurons(object):\n",
    "    def __init__(self, shape):\n",
    "        self.shape = shape\n",
    "        self.v = [np.zeros((n,1)) for n in shape]\n",
    "        self.z = [np.zeros((n,1)) for n in shape[1:]]\n",
    "        self.w = [np.random.randn(n,m) for n,m in zip(shape[1:],shape[:-1])]\n",
    "        self.b = [np.random.randn(n,1) for n in shape[1:]]\n",
    "        self.delw = [np.zeros(w.shape) for w in self.w]\n",
    "        self.delb = [np.zeros(b.shape) for b in self.b]\n",
    "\n",
    "    def predict(self, x):\n",
    "        self.v[0] = x.reshape(self.v[0].shape)\n",
    "        for l in range(len(self.shape)-1):\n",
    "            self.z[l] = np.dot(self.w[l],self.v[l])+self.b[l]\n",
    "            self.v[l+1] = sigma(self.z[l])\n",
    "        return self.v[-1]\n",
    "\n",
    "\n",
    "def calc_fully_connected_NN(x_data, W, B):\n",
    "    y_predict = np.zeros(100)\n",
    "    ### START YOUR CODE HERE ###\n",
    "    model = neurons([4,8,8,1])\n",
    "    \n",
    "\n",
    "#     def f(x):\n",
    "#         model.w[0] = x[:32].reshape(model.w[0].shape)\n",
    "#         model.w[1] = x[32:96].reshape(model.w[1].shape)\n",
    "#         model.w[2] = x[96:104].reshape(model.w[2].shape)\n",
    "#         model.b[0] = x[104:112].reshape(model.b[0].shape)\n",
    "#         model.b[1] = x[112:120].reshape(model.b[1].shape)\n",
    "#         model.b[2] = x[120:].reshape(model.b[2].shape)\n",
    "#         y = np.array([model.predict(x) for x in x_data])\n",
    "#         return ((y[:,:,0]-y_train)**2).sum()/len(x_train)/ 2.\n",
    "        \n",
    "#     x_init = np.random.randn(121)\n",
    "    \n",
    "    \n",
    "    \n",
    "    x=np.zeros(121)\n",
    "    x[0:104] = np.array([W]*104)\n",
    "    x[104:121] = np.array([B]*17)\n",
    "\n",
    "    model.w[0] = x[:32].reshape(model.w[0].shape)\n",
    "    model.w[1] = x[32:96].reshape(model.w[1].shape)\n",
    "    model.w[2] = x[96:104].reshape(model.w[2].shape)\n",
    "    model.b[0] = x[104:112].reshape(model.b[0].shape)\n",
    "    model.b[1] = x[112:120].reshape(model.b[1].shape)\n",
    "    model.b[2] = x[120:].reshape(model.b[2].shape)\n",
    "    \n",
    "    y_predict = np.array([model.predict(x) for x in x_data])[:,0,0]\n",
    "\n",
    "    #### END YOUR CODE HERE ####\n",
    "    return y_predict\n"
   ]
  },
  {
   "cell_type": "code",
   "execution_count": null,
   "metadata": {},
   "outputs": [],
   "source": [
    "\n",
    "\n",
    "\n",
    "\n",
    "res = opt.minimize(f,x_init,options={'disp': True})\n",
    "\n",
    "out = np.array([model.predict(x) for x in x_train])\n",
    "s_train = (np.argmax(out[:,:,0],axis=1)==np.argmax(y_train,axis=1)).sum()/len(y_train)\n",
    "print('Performance (training):', s_train)\n",
    "\n",
    "fig = plt.figure(figsize=(6,6), dpi=80)\n",
    "xv, yv = np.meshgrid(np.linspace(0.,0.45,100),np.linspace(-0.05,1.05,100))\n",
    "zv = np.array([np.argmax(model.predict(x)) for x in np.c_[xv.ravel(), yv.ravel()]])\n",
    "plt.contourf(xv, yv, zv.reshape(xv.shape), alpha=.3, cmap='Blues')\n",
    "plt.scatter(x_train[:,0][y_train[:,0]==1], x_train[:,1][y_train[:,0]==1], c = 'y', s=5, alpha=0.8)\n",
    "plt.scatter(x_train[:,0][y_train[:,1]==1], x_train[:,1][y_train[:,1]==1], c = 'g', s=5, alpha=0.8)\n",
    "plt.show()"
   ]
  },
  {
   "cell_type": "code",
   "execution_count": null,
   "metadata": {},
   "outputs": [],
   "source": []
  },
  {
   "cell_type": "code",
   "execution_count": 182,
   "metadata": {},
   "outputs": [
    {
     "data": {
      "text/plain": [
       "array([0.48897835, 0.49825806, 0.50584954, 0.51175714, 0.51599695,\n",
       "       0.51859722, 0.51960003, 0.51906403, 0.51706841, 0.51371786,\n",
       "       0.50914832, 0.50353308, 0.49708869, 0.49007978, 0.48282193,\n",
       "       0.47568152, 0.46907155, 0.46344239, 0.45926673, 0.45701767,\n",
       "       0.45713885, 0.46000533, 0.46587433, 0.47482647, 0.48670282,\n",
       "       0.50104952, 0.51708865, 0.53373614, 0.54967876, 0.56350369,\n",
       "       0.5738536 , 0.57957358, 0.57982784, 0.57418516, 0.56268422,\n",
       "       0.54588053, 0.52485334, 0.50113412, 0.47653463, 0.45290192,\n",
       "       0.4318776 , 0.4147462 , 0.40241264, 0.39548445, 0.39439212,\n",
       "       0.39947411, 0.41097231, 0.42891635, 0.45291638, 0.4819371 ,\n",
       "       0.51417517, 0.54716303, 0.57812579, 0.60446038, 0.62412054,\n",
       "       0.63576679, 0.63870532, 0.63274691, 0.61811233, 0.59543829,\n",
       "       0.56585715, 0.53106776, 0.49330141, 0.45513169, 0.41916521,\n",
       "       0.38772793, 0.36266862, 0.34533293, 0.33667163, 0.33738994,\n",
       "       0.34803196, 0.36891085, 0.3998371 , 0.4396933 , 0.48606256,\n",
       "       0.53524012, 0.58283101, 0.62472179, 0.65788075, 0.6805841 ,\n",
       "       0.69212002, 0.69231142, 0.68116753, 0.65881042, 0.62568654,\n",
       "       0.5829707 , 0.53295528, 0.47913395, 0.42577718, 0.37711122,\n",
       "       0.33652552, 0.30622114, 0.2873828 , 0.2806423 , 0.28651424,\n",
       "       0.30555395, 0.33807897, 0.38343152, 0.43907751, 0.50025875])"
      ]
     },
     "execution_count": 182,
     "metadata": {},
     "output_type": "execute_result"
    }
   ],
   "source": [
    " np.array([model.predict(x) for x in x_train])[:,0,0]"
   ]
  },
  {
   "cell_type": "code",
   "execution_count": null,
   "metadata": {},
   "outputs": [],
   "source": []
  },
  {
   "cell_type": "code",
   "execution_count": null,
   "metadata": {},
   "outputs": [],
   "source": [
    "import numpy as np\n",
    "\n",
    "def sigma(z):\n",
    "    return 0.5*(np.tanh(0.5*z)+1.)\n",
    "def sigma_p(z):\n",
    "    return sigma(z)*(1.-sigma(z))\n",
    "\n",
    "class neurons(object):\n",
    "    def __init__(self, shape):\n",
    "        self.shape = shape\n",
    "        self.v = [np.zeros((n,1)) for n in shape]\n",
    "        self.z = [np.zeros((n,1)) for n in shape[1:]]\n",
    "        self.w = [np.random.randn(n,m) for n,m in zip(shape[1:],shape[:-1])]\n",
    "        self.b = [np.random.randn(n,1) for n in shape[1:]]\n",
    "        self.delw = [np.zeros(w.shape) for w in self.w]\n",
    "        self.delb = [np.zeros(b.shape) for b in self.b]\n",
    "\n",
    "    def predict(self, x):\n",
    "        self.v[0] = x.reshape(self.v[0].shape)\n",
    "        for l in range(len(self.shape)-1):\n",
    "            self.z[l] = np.dot(self.w[l],self.v[l])+self.b[l]\n",
    "            self.v[l+1] = sigma(self.z[l])\n",
    "        return self.v[-1]\n",
    "\n",
    "\n",
    "def calc_fully_connected_NN(x_data, y_data):\n",
    "    loss = np.zeros(201)\n",
    "    ### START YOUR CODE HERE ###\n",
    "    model = neurons([1,8,1,8,1])\n",
    "    W=1.0\n",
    "    B=0.0\n",
    "\n",
    "    x=np.zeros(121)\n",
    "    x[0:104] = np.array([W]*104)\n",
    "    x[104:121] = np.array([B]*17)\n",
    "\n",
    "    model.w[0] = x[:8].reshape(model.w[0].shape)\n",
    "    model.w[1] = x[:8].reshape(model.w[1].shape)\n",
    "    model.w[2] = x[:8].reshape(model.w[2].shape)\n",
    "    model.w[3] = x[:8].reshape(model.w[3].shape)\n",
    "    \n",
    "    model.b[0] = x[104:112].reshape(model.b[0].shape)\n",
    "\n",
    "    model.b[2] = x[104:112].reshape(model.b[2].shape)\n",
    "    model.b[3] = x[104:105].reshape(model.b[3].shape)\n",
    "    \n",
    "    \n",
    "    bias=np.linspace(-10,10,201)\n",
    "    for i,j in enumerate(bias):\n",
    "        \n",
    "        model.b[1] = j\n",
    "        y = np.array([model.predict(x) for x in x_data])        \n",
    "        loss[i]=((y[:,:,0]-y_data)**2).sum()/len(x_data)**2/ 2.\n",
    "    \n",
    "    \n",
    "#     y_predict = np.array([model.predict(x) for x in x_data])[:,0,0]\n",
    "\n",
    "   \n",
    "    #### END YOUR CODE HERE ####\n",
    "    return loss\n"
   ]
  },
  {
   "cell_type": "code",
   "execution_count": 187,
   "metadata": {},
   "outputs": [
    {
     "data": {
      "text/plain": [
       "10"
      ]
     },
     "execution_count": 187,
     "metadata": {},
     "output_type": "execute_result"
    }
   ],
   "source": [
    "model.b[1]"
   ]
  },
  {
   "cell_type": "code",
   "execution_count": 218,
   "metadata": {},
   "outputs": [
    {
     "ename": "NameError",
     "evalue": "name 'OOO' is not defined",
     "output_type": "error",
     "traceback": [
      "\u001b[1;31m---------------------------------------------------------------------------\u001b[0m",
      "\u001b[1;31mNameError\u001b[0m                                 Traceback (most recent call last)",
      "\u001b[1;32m<ipython-input-218-1496a87e3b63>\u001b[0m in \u001b[0;36m<module>\u001b[1;34m\u001b[0m\n\u001b[0;32m      1\u001b[0m \u001b[0mbias\u001b[0m\u001b[1;33m=\u001b[0m\u001b[0mnp\u001b[0m\u001b[1;33m.\u001b[0m\u001b[0mlinspace\u001b[0m\u001b[1;33m(\u001b[0m\u001b[1;33m-\u001b[0m\u001b[1;36m10\u001b[0m\u001b[1;33m,\u001b[0m\u001b[1;36m10\u001b[0m\u001b[1;33m,\u001b[0m\u001b[1;36m201\u001b[0m\u001b[1;33m)\u001b[0m\u001b[1;33m\u001b[0m\u001b[1;33m\u001b[0m\u001b[0m\n\u001b[0;32m      2\u001b[0m \u001b[1;32mfor\u001b[0m \u001b[0mi\u001b[0m\u001b[1;33m,\u001b[0m\u001b[0mj\u001b[0m \u001b[1;32min\u001b[0m \u001b[0menumerate\u001b[0m\u001b[1;33m(\u001b[0m\u001b[0mbias\u001b[0m\u001b[1;33m)\u001b[0m\u001b[1;33m:\u001b[0m\u001b[1;33m\u001b[0m\u001b[1;33m\u001b[0m\u001b[0m\n\u001b[1;32m----> 3\u001b[1;33m     \u001b[0mOOO\u001b[0m\u001b[1;33m[\u001b[0m\u001b[0mi\u001b[0m\u001b[1;33m]\u001b[0m\u001b[1;33m=\u001b[0m\u001b[1;36m10\u001b[0m\u001b[1;33m\u001b[0m\u001b[1;33m\u001b[0m\u001b[0m\n\u001b[0m",
      "\u001b[1;31mNameError\u001b[0m: name 'OOO' is not defined"
     ]
    }
   ],
   "source": [
    "bias=np.linspace(-10,10,201)\n",
    "for i,j in enumerate(bias):\n",
    "    OOO[i]=10"
   ]
  },
  {
   "cell_type": "code",
   "execution_count": 219,
   "metadata": {},
   "outputs": [
    {
     "data": {
      "text/plain": [
       "200"
      ]
     },
     "execution_count": 219,
     "metadata": {},
     "output_type": "execute_result"
    }
   ],
   "source": [
    "C"
   ]
  },
  {
   "cell_type": "code",
   "execution_count": null,
   "metadata": {},
   "outputs": [],
   "source": []
  },
  {
   "cell_type": "code",
   "execution_count": null,
   "metadata": {},
   "outputs": [],
   "source": []
  },
  {
   "cell_type": "code",
   "execution_count": null,
   "metadata": {},
   "outputs": [],
   "source": []
  },
  {
   "cell_type": "code",
   "execution_count": null,
   "metadata": {},
   "outputs": [],
   "source": []
  },
  {
   "cell_type": "code",
   "execution_count": null,
   "metadata": {},
   "outputs": [],
   "source": []
  },
  {
   "cell_type": "code",
   "execution_count": 183,
   "metadata": {},
   "outputs": [],
   "source": [
    "#HW1"
   ]
  },
  {
   "cell_type": "code",
   "execution_count": null,
   "metadata": {},
   "outputs": [],
   "source": [
    "import random\n",
    "import numpy as np\n",
    "import scipy.optimize as opt\n",
    "\n",
    "def sigma(z):\n",
    "    return 0.5*(np.tanh(0.5*z)+1.)\n",
    "def sigma_p(z):\n",
    "    return sigma(z)*(1.-sigma(z))\n",
    "\n",
    "class neurons(object):\n",
    "    def __init__(self, shape):\n",
    "        self.shape = shape\n",
    "        self.v = [np.zeros((n,1)) for n in shape]\n",
    "        self.z = [np.zeros((n,1)) for n in shape[1:]]\n",
    "        self.w = [np.random.randn(n,m) for n,m in zip(shape[1:],shape[:-1])]\n",
    "        self.b = [np.random.randn(n,1) for n in shape[1:]]\n",
    "        self.delw = [np.zeros(w.shape) for w in self.w]\n",
    "        self.delb = [np.zeros(b.shape) for b in self.b]\n",
    "\n",
    "    def predict(self, x):\n",
    "        self.v[0] = x.reshape(self.v[0].shape)\n",
    "        for l in range(len(self.shape)-1):\n",
    "            self.z[l] = np.dot(self.w[l],self.v[l])+self.b[l]\n",
    "            self.v[l+1] = sigma(self.z[l])\n",
    "        return self.v[-1]\n",
    "\n",
    "\n",
    "def calc_fully_connected_NN(x_data, W, B):\n",
    "    y_predict = np.zeros(100)\n",
    "    ### START YOUR CODE HERE ###\n",
    "    model = neurons([4,8,8,1])\n",
    "    \n",
    "\n",
    "#     def f(x):\n",
    "#         model.w[0] = x[:32].reshape(model.w[0].shape)\n",
    "#         model.w[1] = x[32:96].reshape(model.w[1].shape)\n",
    "#         model.w[2] = x[96:104].reshape(model.w[2].shape)\n",
    "#         model.b[0] = x[104:112].reshape(model.b[0].shape)\n",
    "#         model.b[1] = x[112:120].reshape(model.b[1].shape)\n",
    "#         model.b[2] = x[120:].reshape(model.b[2].shape)\n",
    "#         y = np.array([model.predict(x) for x in x_data])\n",
    "#         return ((y[:,:,0]-y_train)**2).sum()/len(x_train)/ 2.\n",
    "        \n",
    "#     x_init = np.random.randn(121)\n",
    "    \n",
    "    \n",
    "    \n",
    "    x=np.zeros(121)\n",
    "    x[0:104] = np.array([W]*104)\n",
    "    x[104:121] = np.array([B]*17)\n",
    "\n",
    "    model.w[0] = x[:32].reshape(model.w[0].shape)\n",
    "    model.w[1] = x[32:96].reshape(model.w[1].shape)\n",
    "    model.w[2] = x[96:104].reshape(model.w[2].shape)\n",
    "    model.b[0] = x[104:112].reshape(model.b[0].shape)\n",
    "    model.b[1] = x[112:120].reshape(model.b[1].shape)\n",
    "    model.b[2] = x[120:].reshape(model.b[2].shape)\n",
    "    \n",
    "    y_predict = np.array([model.predict(x) for x in x_data])[:,0,0]\n",
    "\n",
    "    #### END YOUR CODE HERE ####\n",
    "    return y_predict\n"
   ]
  },
  {
   "cell_type": "code",
   "execution_count": null,
   "metadata": {},
   "outputs": [],
   "source": [
    "#HW2"
   ]
  },
  {
   "cell_type": "code",
   "execution_count": null,
   "metadata": {},
   "outputs": [],
   "source": [
    "import numpy as np\n",
    "\n",
    "def sigma(z):\n",
    "    return 0.5*(np.tanh(0.5*z)+1.)\n",
    "def sigma_p(z):\n",
    "    return sigma(z)*(1.-sigma(z))\n",
    "\n",
    "class neurons(object):\n",
    "    def __init__(self, shape):\n",
    "        self.shape = shape\n",
    "        self.v = [np.zeros((n,1)) for n in shape]\n",
    "        self.z = [np.zeros((n,1)) for n in shape[1:]]\n",
    "        self.w = [np.random.randn(n,m) for n,m in zip(shape[1:],shape[:-1])]\n",
    "        self.b = [np.random.randn(n,1) for n in shape[1:]]\n",
    "        self.delw = [np.zeros(w.shape) for w in self.w]\n",
    "        self.delb = [np.zeros(b.shape) for b in self.b]\n",
    "\n",
    "    def predict(self, x):\n",
    "        self.v[0] = x.reshape(self.v[0].shape)\n",
    "        for l in range(len(self.shape)-1):\n",
    "            self.z[l] = np.dot(self.w[l],self.v[l])+self.b[l]\n",
    "            self.v[l+1] = sigma(self.z[l])\n",
    "        return self.v[-1]\n",
    "\n",
    "\n",
    "def calc_fully_connected_NN(x_data, y_data):\n",
    "    loss = np.zeros(201)\n",
    "    ### START YOUR CODE HERE ###\n",
    "    model = neurons([1,8,1,8,1])\n",
    "    W=1.0\n",
    "    B=0.0\n",
    "\n",
    "    x=np.zeros(121)\n",
    "    x[0:104] = np.array([W]*104)\n",
    "    x[104:121] = np.array([B]*17)\n",
    "\n",
    "    model.w[0] = x[:8].reshape(model.w[0].shape)\n",
    "    model.w[1] = x[:8].reshape(model.w[1].shape)\n",
    "    model.w[2] = x[:8].reshape(model.w[2].shape)\n",
    "    model.w[3] = x[:8].reshape(model.w[3].shape)\n",
    "    \n",
    "    model.b[0] = x[104:112].reshape(model.b[0].shape)\n",
    "\n",
    "    model.b[2] = x[104:112].reshape(model.b[2].shape)\n",
    "    model.b[3] = x[104:105].reshape(model.b[3].shape)\n",
    "    \n",
    "    \n",
    "    bias=np.linspace(-10,10,201)\n",
    "    for i,j in enumerate(bias):\n",
    "        \n",
    "        model.b[1] = j\n",
    "        y = np.array([model.predict(x) for x in x_data])        \n",
    "        loss[i]=((y[:,:,0]-y_data)**2).sum()/len(x_data)**2/ 2.\n",
    "    \n",
    "    \n",
    "#     y_predict = np.array([model.predict(x) for x in x_data])[:,0,0]\n",
    "\n",
    "   \n",
    "    #### END YOUR CODE HERE ####\n",
    "    return loss\n"
   ]
  },
  {
   "cell_type": "code",
   "execution_count": null,
   "metadata": {},
   "outputs": [],
   "source": []
  },
  {
   "cell_type": "code",
   "execution_count": null,
   "metadata": {},
   "outputs": [],
   "source": []
  },
  {
   "cell_type": "code",
   "execution_count": null,
   "metadata": {},
   "outputs": [],
   "source": []
  }
 ],
 "metadata": {
  "kernelspec": {
   "display_name": "Python 3",
   "language": "python",
   "name": "python3"
  },
  "language_info": {
   "codemirror_mode": {
    "name": "ipython",
    "version": 3
   },
   "file_extension": ".py",
   "mimetype": "text/x-python",
   "name": "python",
   "nbconvert_exporter": "python",
   "pygments_lexer": "ipython3",
   "version": "3.7.3"
  }
 },
 "nbformat": 4,
 "nbformat_minor": 2
}
