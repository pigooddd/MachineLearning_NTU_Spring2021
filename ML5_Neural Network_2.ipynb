{
 "cells": [
  {
   "cell_type": "code",
   "execution_count": 1,
   "metadata": {},
   "outputs": [],
   "source": [
    "import random\n",
    "import numpy as np\n",
    "\n",
    "def sigma(z):\n",
    "    return 0.5*(np.tanh(0.5*z)+1.)\n",
    "def sigma_p(z):\n",
    "    return sigma(z)*(1.-sigma(z))\n",
    "\n",
    "class neurons(object):\n",
    "    def __init__(self, shape):\n",
    "        self.shape = shape\n",
    "        self.v = [np.zeros((n,1)) for n in shape]\n",
    "        self.z = [np.zeros((n,1)) for n in shape[1:]]\n",
    "        self.w = [np.random.randn(n,m) for n,m in zip(shape[1:],shape[:-1])]\n",
    "        self.b = [np.random.randn(n,1) for n in shape[1:]]\n",
    "        self.delw = [np.zeros(w.shape) for w in self.w]\n",
    "        self.delb = [np.zeros(b.shape) for b in self.b]\n",
    "\n",
    "    def predict(self, x):\n",
    "        self.v[0] = x.reshape(self.v[0].shape)\n",
    "        for l in range(len(self.shape)-1):\n",
    "            self.z[l] = np.dot(self.w[l],self.v[l])+self.b[l]\n",
    "            self.v[l+1] = sigma(self.z[l])\n",
    "        return self.v[-1]\n",
    "\n",
    "    def gradient(self, y):\n",
    "        for l in range(len(self.shape)-2,-1,-1):\n",
    "            if l==len(self.shape)-2:\n",
    "                  delta = (self.v[-1]-y.reshape(self.v[-1].shape))*sigma_p(self.z[l])\n",
    "            else: delta = np.dot(self.w[l+1].T,self.delb[l+1])*sigma_p(self.z[l])\n",
    "            self.delb[l] = delta\n",
    "            self.delw[l] = np.dot(delta,self.v[l].T)\n",
    "\n",
    "    def fit(self, x_data, y_data, epochs, batch_size, eta):\n",
    "        samples = list(zip(x_data, y_data))\n",
    "        for ep in range(epochs):\n",
    "            print('Epoch: %d/%d' % (ep+1,epochs))\n",
    "            random.shuffle(samples)\n",
    "            sum_delw = [np.zeros(w.shape) for w in self.w]\n",
    "            sum_delb = [np.zeros(b.shape) for b in self.b]\n",
    "            batch_count = 0\n",
    "            for x,y in samples:\n",
    "                self.predict(x)\n",
    "                self.gradient(y)\n",
    "                for l in range(len(self.shape)-1):\n",
    "                    sum_delw[l] += self.delw[l]\n",
    "                    sum_delb[l] += self.delb[l]\n",
    "                batch_count += 1\n",
    "                if batch_count>=batch_size or (x is samples[-1][0]):\n",
    "                    for l in range(len(self.shape)-1):\n",
    "                        self.w[l] -= eta/batch_count*sum_delw[l]\n",
    "                        self.b[l] -= eta/batch_count*sum_delb[l]\n",
    "                        sum_delw[l],sum_delb[l] = 0.,0.\n",
    "                    batch_count = 0\n",
    "            ret = self.evaluate(x_data, y_data)\n",
    "            print('Loss: %.4f, Acc: %.4f' % ret)\n",
    "\n",
    "    def evaluate(self, x_data, y_data):\n",
    "        loss, cnt = 0., 0.\n",
    "        for x,y in zip(x_data, y_data):\n",
    "            self.predict(x)\n",
    "            loss += ((self.v[-1]-y.reshape(self.v[-1].shape))**2).sum()\n",
    "            if np.argmax(self.v[-1])==np.argmax(y): cnt += 1.\n",
    "        loss /= 2.*len(x_data)\n",
    "        return loss, cnt/len(x_data)\n"
   ]
  },
  {
   "cell_type": "code",
   "execution_count": null,
   "metadata": {},
   "outputs": [],
   "source": []
  },
  {
   "cell_type": "code",
   "execution_count": 9,
   "metadata": {},
   "outputs": [],
   "source": [
    "L=[]\n",
    "for l in range(10-2,-1,-1):\n",
    "    L.append(l)"
   ]
  },
  {
   "cell_type": "code",
   "execution_count": 10,
   "metadata": {},
   "outputs": [
    {
     "data": {
      "text/plain": [
       "[8, 7, 6, 5, 4, 3, 2, 1, 0]"
      ]
     },
     "execution_count": 10,
     "metadata": {},
     "output_type": "execute_result"
    }
   ],
   "source": [
    "L"
   ]
  },
  {
   "cell_type": "code",
   "execution_count": 12,
   "metadata": {},
   "outputs": [
    {
     "name": "stdout",
     "output_type": "stream",
     "text": [
      "Epoch: 1/20\n",
      "Loss: 0.0968, Acc: 0.9098\n",
      "Epoch: 2/20\n",
      "Loss: 0.0649, Acc: 0.9304\n",
      "Epoch: 3/20\n",
      "Loss: 0.0531, Acc: 0.9454\n",
      "Epoch: 4/20\n",
      "Loss: 0.0398, Acc: 0.9600\n",
      "Epoch: 5/20\n",
      "Loss: 0.0337, Acc: 0.9613\n",
      "Epoch: 6/20\n",
      "Loss: 0.0251, Acc: 0.9826\n",
      "Epoch: 7/20\n",
      "Loss: 0.0193, Acc: 0.9833\n",
      "Epoch: 8/20\n",
      "Loss: 0.0161, Acc: 0.9862\n",
      "Epoch: 9/20\n",
      "Loss: 0.0142, Acc: 0.9906\n",
      "Epoch: 10/20\n",
      "Loss: 0.0123, Acc: 0.9906\n",
      "Epoch: 11/20\n",
      "Loss: 0.0133, Acc: 0.9919\n",
      "Epoch: 12/20\n",
      "Loss: 0.0105, Acc: 0.9919\n",
      "Epoch: 13/20\n",
      "Loss: 0.0097, Acc: 0.9919\n",
      "Epoch: 14/20\n",
      "Loss: 0.0093, Acc: 0.9927\n",
      "Epoch: 15/20\n",
      "Loss: 0.0087, Acc: 0.9919\n",
      "Epoch: 16/20\n",
      "Loss: 0.0084, Acc: 0.9922\n",
      "Epoch: 17/20\n",
      "Loss: 0.0081, Acc: 0.9921\n",
      "Epoch: 18/20\n",
      "Loss: 0.0079, Acc: 0.9927\n",
      "Epoch: 19/20\n",
      "Loss: 0.0077, Acc: 0.9925\n",
      "Epoch: 20/20\n",
      "Loss: 0.0076, Acc: 0.9927\n",
      "Performance (training)\n",
      "Loss: 0.00758, Acc: 0.99274\n",
      "Performance (testing)\n",
      "Loss: 0.00542, Acc: 0.99574\n"
     ]
    },
    {
     "data": {
      "image/png": "[encoded data removed]",
      "text/plain": [
       "<Figure size 480x480 with 2 Axes>"
      ]
     },
     "metadata": {
      "needs_background": "light"
     },
     "output_type": "display_data"
    }
   ],
   "source": [
    "import numpy as np\n",
    "import matplotlib.pyplot as plt\n",
    "\n",
    "mnist = np.load('mnist.npz')\n",
    "x_train = mnist['x_train'][mnist['y_train']<=1]/255.\n",
    "y_train = mnist['y_train'][mnist['y_train']<=1]\n",
    "x_test = mnist['x_test'][mnist['y_test']<=1]/255.\n",
    "y_test = mnist['y_test'][mnist['y_test']<=1]\n",
    "\n",
    "x_train = np.array([[img.mean(),img[10:18,11:17].mean()] for img in x_train])\n",
    "y_train = np.array([[[1,0],[0,1]][n] for n in y_train])\n",
    "x_test = np.array([[img.mean(),img[10:18,11:17].mean()] for img in x_test])\n",
    "y_test = np.array([[[1,0],[0,1]][n] for n in y_test])\n",
    "\n",
    "# from neurons import neurons\n",
    "model = neurons([2,5,2])\n",
    "model.fit(x_train, y_train, 20, 30, 1.0)\n",
    "\n",
    "print('Performance (training)')\n",
    "print('Loss: %.5f, Acc: %.5f' % model.evaluate(x_train, y_train))\n",
    "print('Performance (testing)')\n",
    "print('Loss: %.5f, Acc: %.5f' % model.evaluate(x_test, y_test))\n",
    "\n",
    "out = np.array([model.predict(x) for x in x_train])\n",
    "\n",
    "fig = plt.figure(figsize=(6,6), dpi=80)\n",
    "plt.subplot(2,1,1)\n",
    "plt.hist(out[:,0][y_train[:,0]==1], bins=50, color='y')\n",
    "plt.hist(out[:,0][y_train[:,1]==1], bins=50, color='g', alpha=0.5)\n",
    "plt.subplot(2,1,2)\n",
    "plt.hist(out[:,1][y_train[:,0]==1], bins=50, color='y')\n",
    "plt.hist(out[:,1][y_train[:,1]==1], bins=50, color='g', alpha=0.5)\n",
    "plt.show()\n"
   ]
  },
  {
   "cell_type": "code",
   "execution_count": null,
   "metadata": {},
   "outputs": [],
   "source": []
  },
  {
   "cell_type": "code",
   "execution_count": 17,
   "metadata": {},
   "outputs": [
    {
     "name": "stdout",
     "output_type": "stream",
     "text": [
      "Epoch: 1/20\n",
      "Loss: 0.4120, Acc: 0.3396\n",
      "Epoch: 2/20\n",
      "Loss: 0.3607, Acc: 0.4348\n",
      "Epoch: 3/20\n",
      "Loss: 0.3261, Acc: 0.4869\n",
      "Epoch: 4/20\n",
      "Loss: 0.3026, Acc: 0.5268\n",
      "Epoch: 5/20\n",
      "Loss: 0.2853, Acc: 0.5595\n",
      "Epoch: 6/20\n",
      "Loss: 0.2720, Acc: 0.5821\n",
      "Epoch: 7/20\n",
      "Loss: 0.2619, Acc: 0.5957\n",
      "Epoch: 8/20\n",
      "Loss: 0.2543, Acc: 0.6046\n",
      "Epoch: 9/20\n",
      "Loss: 0.2483, Acc: 0.6119\n",
      "Epoch: 10/20\n",
      "Loss: 0.2431, Acc: 0.6183\n",
      "Epoch: 11/20\n",
      "Loss: 0.2382, Acc: 0.6278\n",
      "Epoch: 12/20\n",
      "Loss: 0.2318, Acc: 0.6514\n",
      "Epoch: 13/20\n",
      "Loss: 0.2237, Acc: 0.6751\n",
      "Epoch: 14/20\n",
      "Loss: 0.2165, Acc: 0.6861\n",
      "Epoch: 15/20\n",
      "Loss: 0.2107, Acc: 0.6935\n",
      "Epoch: 16/20\n",
      "Loss: 0.2057, Acc: 0.6996\n",
      "Epoch: 17/20\n",
      "Loss: 0.2000, Acc: 0.7071\n",
      "Epoch: 18/20\n",
      "Loss: 0.1863, Acc: 0.7422\n",
      "Epoch: 19/20\n",
      "Loss: 0.1744, Acc: 0.7603\n",
      "Epoch: 20/20\n",
      "Loss: 0.1670, Acc: 0.7700\n",
      "Performance (training)\n",
      "Loss: 0.16698, Acc: 0.77002\n",
      "Performance (testing)\n",
      "Loss: 0.16494, Acc: 0.77170\n"
     ]
    },
    {
     "data": {
      "image/png": "[encoded data removed]",
      "text/plain": [
       "<Figure size 800x800 with 100 Axes>"
      ]
     },
     "metadata": {
      "needs_background": "light"
     },
     "output_type": "display_data"
    }
   ],
   "source": [
    "import numpy as np\n",
    "import matplotlib.pyplot as plt\n",
    "\n",
    "mnist = np.load('mnist.npz')\n",
    "x_train = mnist['x_train']/255.\n",
    "y_train = np.array([np.eye(10)[n] for n in mnist['y_train']])\n",
    "x_test = mnist['x_test']/255.\n",
    "y_test = np.array([np.eye(10)[n] for n in mnist['y_test']])\n",
    "\n",
    "# from neurons import neurons\n",
    "model = neurons([784,30,10])\n",
    "model.fit(x_train, y_train, 20, 1000, 3.0)#1000換10會好很多\n",
    "\n",
    "print('Performance (training)')\n",
    "print('Loss: %.5f, Acc: %.5f' % model.evaluate(x_train, y_train))\n",
    "print('Performance (testing)')\n",
    "print('Loss: %.5f, Acc: %.5f' % model.evaluate(x_test, y_test))\n",
    "\n",
    "p_test = np.array([model.predict(x) for x in x_test])\n",
    "\n",
    "fig = plt.figure(figsize=(10,10), dpi=80)\n",
    "for i in range(100):\n",
    "    plt.subplot(10,10,i+1)\n",
    "    plt.axis('off')\n",
    "    plt.imshow(mnist['x_test'][i], cmap='Greys')\n",
    "    c='Green'\n",
    "    if y_test[i].argmax()!=p_test[i].argmax(): c='Red'\n",
    "    plt.text(0.,0.,'$%d\\\\to%d$' % (y_test[i].argmax(),p_test[i].argmax()),color=c,fontsize=15)\n",
    "plt.show()\n"
   ]
  },
  {
   "cell_type": "code",
   "execution_count": 16,
   "metadata": {},
   "outputs": [
    {
     "data": {
      "text/plain": [
       "array([0., 0., 0., 0., 0., 0., 0., 0., 0., 1.])"
      ]
     },
     "execution_count": 16,
     "metadata": {},
     "output_type": "execute_result"
    }
   ],
   "source": [
    "np.eye(10)[9]"
   ]
  },
  {
   "cell_type": "code",
   "execution_count": null,
   "metadata": {},
   "outputs": [],
   "source": [
    "import numpy as np\n",
    "import matplotlib.pyplot as plt\n",
    "import copy\n",
    "\n",
    "mnist = np.load('mnist.npz')\n",
    "x_train = mnist['x_train'][:10000]/255.\n",
    "y_train = np.array([np.eye(10)[n] for n in mnist['y_train'][:10000]])\n",
    "\n",
    "scores = np.zeros((2,50))\n",
    "\n",
    "# from neurons import neurons\n",
    "m1 = neurons([784,30,10])\n",
    "m2 = copy.deepcopy(m1)\n",
    "for w in m2.w:\n",
    "    w /= (w.shape[1])**0.5\n",
    "\n",
    "for ep in range(50):\n",
    "    m1.fit(x_train, y_train, 1, 10, 3.0)\n",
    "    m2.fit(x_train, y_train, 1, 10, 3.0)\n",
    "    scores[0][ep],acc = m1.evaluate(x_train, y_train)\n",
    "    scores[1][ep],acc = m2.evaluate(x_train, y_train)\n",
    "\n",
    "vep = np.linspace(1.,50.,50)\n",
    "fig = plt.figure(figsize=(6,6), dpi=80)\n",
    "plt.plot(vep,scores[0], lw=3)\n",
    "plt.plot(vep,scores[1], lw=3)\n",
    "plt.show()"
   ]
  },
  {
   "cell_type": "code",
   "execution_count": null,
   "metadata": {},
   "outputs": [],
   "source": []
  },
  {
   "cell_type": "code",
   "execution_count": null,
   "metadata": {},
   "outputs": [],
   "source": []
  },
  {
   "cell_type": "code",
   "execution_count": 127,
   "metadata": {},
   "outputs": [],
   "source": [
    "import random\n",
    "x_data= np.random.randn(4) \n",
    "y_data=np.random.randn(4) \n",
    "W=1.0"
   ]
  },
  {
   "cell_type": "code",
   "execution_count": 128,
   "metadata": {},
   "outputs": [
    {
     "data": {
      "text/plain": [
       "array([ 0.4461927 ,  1.84419719, -2.33294531,  0.05151678])"
      ]
     },
     "execution_count": 128,
     "metadata": {},
     "output_type": "execute_result"
    }
   ],
   "source": [
    "x_data"
   ]
  },
  {
   "cell_type": "code",
   "execution_count": 129,
   "metadata": {},
   "outputs": [
    {
     "data": {
      "text/plain": [
       "array([ 0.00382941, -0.33329888,  0.79263023,  0.01616323])"
      ]
     },
     "execution_count": 129,
     "metadata": {},
     "output_type": "execute_result"
    }
   ],
   "source": [
    "y_data"
   ]
  },
  {
   "cell_type": "code",
   "execution_count": 143,
   "metadata": {},
   "outputs": [],
   "source": [
    "import numpy as np\n",
    "\n",
    "def sigma(z):\n",
    "    return 1. / (1 + np.exp(-z))\n",
    "def sigma_p(z):\n",
    "    return sigma(z)*(1.-sigma(z))\n",
    "\n",
    "class neurons(object):\n",
    "    def __init__(self, shape):\n",
    "        self.shape = shape\n",
    "        self.v = [np.zeros((n,1)) for n in shape]\n",
    "        self.z = [np.zeros((n,1)) for n in shape[1:]]\n",
    "        self.w = [np.random.randn(n,m) for n,m in zip(shape[1:],shape[:-1])]\n",
    "        self.b = [np.random.randn(n,1) for n in shape[1:]]\n",
    "        self.delw = [np.zeros(w.shape) for w in self.w]\n",
    "        self.delb = [np.zeros(b.shape) for b in self.b]\n",
    "\n",
    "    def predict(self, x):\n",
    "        self.v[0] = x.reshape(self.v[0].shape)\n",
    "        for l in range(len(self.shape)-1):\n",
    "            self.z[l] = np.dot(self.w[l],self.v[l])+self.b[l]\n",
    "            self.v[l+1] = sigma(self.z[l])\n",
    "        return self.v[-1]\n",
    "\n",
    "    def gradient(self, y):\n",
    "        for l in range(len(self.shape)-2,-1,-1):\n",
    "            if l==len(self.shape)-2:\n",
    "                  delta = (self.v[-1]-y.reshape(self.v[-1].shape))*sigma_p(self.z[l])\n",
    "            else: delta = np.dot(self.w[l+1].T,self.delb[l+1])*sigma_p(self.z[l])\n",
    "            self.delb[l] = delta\n",
    "            self.delw[l] = np.dot(delta,self.v[l].T)\n",
    "\n",
    "def calc_NN_gradients(x_data, y_data, W):\n",
    "    grad = np.zeros(10)\n",
    "    ### START YOUR CODE HERE ###\n",
    "    model = neurons([4,10,4])\n",
    "    x=np.zeros(94)\n",
    "    x[0:80] = np.array([W]*80)\n",
    "    x[80:84] = np.array([1]*4)\n",
    "\n",
    "    model.w[0] = x[:40].reshape(model.w[0].shape)\n",
    "    model.w[1] = x[40:80].reshape(model.w[1].shape)\n",
    "    model.b[1] = x[80:84].reshape(model.b[1].shape)\n",
    "    \n",
    "    bias=np.linspace(0.0,0.9,10)\n",
    "    x[84:94]=np.array([i for i in bias ])\n",
    "    model.b[0] = x[84:94].reshape(model.b[0].shape)\n",
    "    model.predict(x_data)\n",
    "    model.gradient(y_data)\n",
    "    grad=model.delb[0].reshape(grad.shape)\n",
    "\n",
    "    \n",
    "    \n",
    "#     for i,j in enumerate(bias):\n",
    "        \n",
    "        \n",
    "#         x[84:94] = np.array([j]*10)\n",
    "#         model.b[0] = x[84:94].reshape(model.b[0].shape)\n",
    "\n",
    "#         model.predict(x_data)\n",
    "#         model.gradient(y_data)\n",
    "        \n",
    "#         grad[i]=model.delb[0][0]\n",
    "        \n",
    "        \n",
    "        \n",
    "        \n",
    "        \n",
    "        \n",
    "        \n",
    "        \n",
    "        \n",
    "        \n",
    "        \n",
    "        \n",
    "        \n",
    "        \n",
    "        \n",
    "        \n",
    "        \n",
    "#         y = np.array([model.predict(x) for x in x_data])        \n",
    "#         loss[i]=((y[:,:,0]-y_data)**2).sum()/len(x_data)**2/ 2.\n",
    "    \n",
    "    \n",
    "    \n",
    "    \n",
    "    \n",
    "#     model.fit(x_train, y_train, 20, 30, 1.0)\n",
    "#     out = np.array([model.predict(x) for x in x_train])\n",
    "    \n",
    "    \n",
    "\n",
    "    #### END YOUR CODE HERE ####\n",
    "    return grad#,model.delb#,model.delb[0]\n"
   ]
  },
  {
   "cell_type": "code",
   "execution_count": 144,
   "metadata": {},
   "outputs": [
    {
     "data": {
      "text/plain": [
       "array([0.00071996, 0.00071784, 0.00071217, 0.00070306, 0.00069069,\n",
       "       0.00067529, 0.00065714, 0.00063657, 0.00061393, 0.00058957])"
      ]
     },
     "execution_count": 144,
     "metadata": {},
     "output_type": "execute_result"
    }
   ],
   "source": [
    "calc_NN_gradients(x_data, y_data, W)"
   ]
  },
  {
   "cell_type": "code",
   "execution_count": 134,
   "metadata": {},
   "outputs": [
    {
     "data": {
      "text/plain": [
       "array([5, 5, 5, 5])"
      ]
     },
     "execution_count": 134,
     "metadata": {},
     "output_type": "execute_result"
    }
   ],
   "source": [
    "np.array([5]*4)"
   ]
  },
  {
   "cell_type": "code",
   "execution_count": 121,
   "metadata": {},
   "outputs": [
    {
     "data": {
      "text/plain": [
       "[<matplotlib.lines.Line2D at 0x16d9f3b7748>]"
      ]
     },
     "execution_count": 121,
     "metadata": {},
     "output_type": "execute_result"
    },
    {
     "data": {
      "image/png": "[encoded data removed]",
      "text/plain": [
       "<Figure size 480x480 with 1 Axes>"
      ]
     },
     "metadata": {
      "needs_background": "light"
     },
     "output_type": "display_data"
    }
   ],
   "source": [
    "import matplotlib.pyplot as plt\n",
    "import numpy as np\n",
    "import mpl_toolkits.axisartist as axisartist\n",
    " \n",
    "def sigmoid(x):\n",
    "    return 1. / (1 + np.exp(-x))\n",
    " \n",
    "\n",
    "c=np.zeros(100)\n",
    "for j in range(0,100):\n",
    "    c[j] = sigma(j-50)\n",
    "\n",
    "fig = plt.figure(figsize=(6,6), dpi=80)\n",
    "plt.plot(c)\n"
   ]
  },
  {
   "cell_type": "code",
   "execution_count": 152,
   "metadata": {},
   "outputs": [
    {
     "data": {
      "text/plain": [
       "array([0. , 0.1, 0.2, 0.3, 0.4, 0.5, 0.6, 0.7, 0.8, 0.9])"
      ]
     },
     "execution_count": 152,
     "metadata": {},
     "output_type": "execute_result"
    }
   ],
   "source": [
    "bias=np.linspace(0.0,0.9,10)\n",
    "np.array([i for i in bias ])"
   ]
  },
  {
   "cell_type": "code",
   "execution_count": 174,
   "metadata": {},
   "outputs": [],
   "source": [
    "import random\n",
    "x_data= [np.random.randn(4) for i in range(20) ]\n",
    "y_data= [np.random.randn(4) for i in range(20) ]\n",
    "W=1.0"
   ]
  },
  {
   "cell_type": "code",
   "execution_count": 175,
   "metadata": {},
   "outputs": [
    {
     "data": {
      "text/plain": [
       "[array([-0.41930529, -0.20723735, -0.7913716 , -1.32166725]),\n",
       " array([-0.8349473 , -0.12792275,  2.69956483, -1.09115078]),\n",
       " array([0.24522629, 1.25255505, 0.47550703, 1.4655717 ]),\n",
       " array([-0.30417127, -2.30389383,  0.2831138 ,  0.11322052]),\n",
       " array([ 1.70008771, -1.53343238,  1.14066566,  0.02281591]),\n",
       " array([-0.87642501, -0.05420517,  1.9295178 , -0.73344948]),\n",
       " array([-0.82814466, -0.94595968,  1.82557739,  2.02868294]),\n",
       " array([-0.51546468,  0.10804651, -1.94973806,  0.51566022]),\n",
       " array([ 1.5462083 ,  2.13220225,  1.3540507 , -1.25343436]),\n",
       " array([-2.06148496,  0.17868926, -0.73901371, -0.53221115]),\n",
       " array([-1.08308929, -2.80534638, -0.52210402,  0.20753667]),\n",
       " array([-0.34261244,  0.56614379, -1.94614051,  0.58829935]),\n",
       " array([ 0.21572968, -0.67351414, -1.61340547,  0.17326752]),\n",
       " array([ 1.01476859, -0.34098344, -0.5296065 , -0.76429338]),\n",
       " array([0.88280646, 1.2631296 , 0.59627304, 1.12159449]),\n",
       " array([ 0.99825865, -0.31679124,  1.63878296,  0.28107436]),\n",
       " array([ 0.59686652, -0.67981871, -1.86194981,  0.73034526]),\n",
       " array([-2.46376831, -0.43463858, -1.93418045, -0.81423184]),\n",
       " array([-0.68170391,  0.01963478,  0.92412839,  1.95666773]),\n",
       " array([0.8616767 , 0.92544915, 0.3944222 , 0.14768312])]"
      ]
     },
     "execution_count": 175,
     "metadata": {},
     "output_type": "execute_result"
    }
   ],
   "source": [
    "x_data"
   ]
  },
  {
   "cell_type": "code",
   "execution_count": 176,
   "metadata": {},
   "outputs": [
    {
     "data": {
      "text/plain": [
       "[array([-0.11299839,  0.00735764,  0.91882413,  0.24642942]),\n",
       " array([-1.34334233,  0.38190394, -0.59196507, -0.30557677]),\n",
       " array([-1.64816291, -1.71283468,  0.10735253,  1.22841747]),\n",
       " array([0.437047  , 0.41414713, 0.23693831, 0.00097551]),\n",
       " array([-0.22396393, -0.19976878, -0.87309619, -0.29531046]),\n",
       " array([-0.80271286,  0.32053421,  1.3027635 ,  0.49222873]),\n",
       " array([ 0.35253055, -0.77645495, -0.61201587, -0.20710787]),\n",
       " array([-2.10734885, -1.09628994,  0.12179415, -0.41651757]),\n",
       " array([ 0.56171131,  1.64116182,  0.71539307, -0.70110826]),\n",
       " array([ 0.17878504, -2.2072177 ,  0.60905669,  0.37027886]),\n",
       " array([ 0.53042713, -0.14885644,  0.37569929,  1.05495571]),\n",
       " array([ 0.87290432,  0.17655701,  0.25274213, -0.53445548]),\n",
       " array([ 0.7424946 ,  1.18945089, -0.1433542 ,  0.06700696]),\n",
       " array([-0.71622517,  0.01031662,  0.48698122,  0.82111626]),\n",
       " array([0.35060169, 1.32359267, 1.9976205 , 0.5108008 ]),\n",
       " array([0.48751312, 0.65972093, 0.19601897, 0.10174397]),\n",
       " array([ 0.50760998, -0.15535526, -0.18120822, -0.73289598]),\n",
       " array([-1.01189728, -1.6999022 , -0.62020651, -1.15341538]),\n",
       " array([ 1.08877497, -0.34571507, -0.14383654,  0.54439932]),\n",
       " array([-1.61421011, -0.42822713, -1.07822074, -2.2639493 ])]"
      ]
     },
     "execution_count": 176,
     "metadata": {},
     "output_type": "execute_result"
    }
   ],
   "source": [
    "y_data"
   ]
  },
  {
   "cell_type": "code",
   "execution_count": 191,
   "metadata": {},
   "outputs": [],
   "source": [
    "import random\n",
    "import numpy as np\n",
    "\n",
    "def sigma(z):\n",
    "    return 1. / (1 + np.exp(-z))\n",
    "def sigma_p(z):\n",
    "    return sigma(z)*(1.-sigma(z))\n",
    "\n",
    "class neurons(object):\n",
    "    def __init__(self, shape):\n",
    "        self.shape = shape\n",
    "        self.v = [np.zeros((n,1)) for n in shape]\n",
    "        self.z = [np.zeros((n,1)) for n in shape[1:]]\n",
    "        self.w = [np.random.randn(n,m) for n,m in zip(shape[1:],shape[:-1])]\n",
    "        self.b = [np.random.randn(n,1) for n in shape[1:]]\n",
    "        self.delw = [np.zeros(w.shape) for w in self.w]\n",
    "        self.delb = [np.zeros(b.shape) for b in self.b]\n",
    "\n",
    "    def predict(self, x):\n",
    "        self.v[0] = x.reshape(self.v[0].shape)\n",
    "        for l in range(len(self.shape)-1):\n",
    "            self.z[l] = np.dot(self.w[l],self.v[l])+self.b[l]\n",
    "            self.v[l+1] = sigma(self.z[l])\n",
    "        return self.v[-1]\n",
    "\n",
    "    def gradient(self, y):\n",
    "        for l in range(len(self.shape)-2,-1,-1):\n",
    "            if l==len(self.shape)-2:\n",
    "                  delta = (self.v[-1]-y.reshape(self.v[-1].shape))*sigma_p(self.z[l])\n",
    "            else: delta = np.dot(self.w[l+1].T,self.delb[l+1])*sigma_p(self.z[l])\n",
    "            self.delb[l] = delta\n",
    "            self.delw[l] = np.dot(delta,self.v[l].T)\n",
    "    def fit(self, x_data, y_data, epochs, batch_size, eta):\n",
    "        samples = list(zip(x_data, y_data))\n",
    "        for ep in range(epochs):\n",
    "            print('Epoch: %d/%d' % (ep+1,epochs))\n",
    "            random.shuffle(samples)\n",
    "            sum_delw = [np.zeros(w.shape) for w in self.w]\n",
    "            sum_delb = [np.zeros(b.shape) for b in self.b]\n",
    "            batch_count = 0\n",
    "            for x,y in samples:\n",
    "                self.predict(x)\n",
    "                self.gradient(y)\n",
    "                for l in range(len(self.shape)-1):\n",
    "                    sum_delw[l] += self.delw[l]\n",
    "                    sum_delb[l] += self.delb[l]\n",
    "                batch_count += 1\n",
    "                if batch_count>=batch_size or (x is samples[-1][0]):\n",
    "                    for l in range(len(self.shape)-1):\n",
    "                        self.w[l] -= eta/batch_count*sum_delw[l]\n",
    "                        self.b[l] -= eta/batch_count*sum_delb[l]\n",
    "                        sum_delw[l],sum_delb[l] = 0.,0.\n",
    "                    batch_count = 0\n",
    "#             ret = self.evaluate(x_data, y_data)\n",
    "#             print('Loss: %.4f, Acc: %.4f' % ret)\n",
    "#     def evaluate(self, x_data, y_data):\n",
    "#         loss, cnt = 0., 0.\n",
    "#         for x,y in zip(x_data, y_data):\n",
    "#             self.predict(x)\n",
    "#             loss += ((self.v[-1]-y.reshape(self.v[-1].shape))**2).sum()\n",
    "#             if np.argmax(self.v[-1])==np.argmax(y): cnt += 1.\n",
    "#         loss /= 2.*len(x_data)\n",
    "#         return loss, cnt/len(x_data)\n",
    "\n",
    " \n",
    "def train_NN_gradient_descent(x_train, y_train, W):\n",
    "    bias = np.zeros(10)\n",
    "    ### START YOUR CODE HERE ###\n",
    "    model = neurons([4,10,4])\n",
    "    x=np.zeros(94)\n",
    "    x[0:80] = np.array([W]*80)\n",
    "    x[80:84] = np.array([1]*4)\n",
    "\n",
    "    model.w[0] = x[:40].reshape(model.w[0].shape)\n",
    "    model.w[1] = x[40:80].reshape(model.w[1].shape)\n",
    "    model.b[1] = x[80:84].reshape(model.b[1].shape)\n",
    "    \n",
    "    bias=np.linspace(0.0,0.9,10)\n",
    "    x[84:94]=np.array([i for i in bias ])\n",
    "    model.b[0] = x[84:94].reshape(model.b[0].shape)\n",
    "    ###initial完###\n",
    "    model.fit(x_train, y_train, 10, 20, 0.2)\n",
    "#     model.predict(x_data)\n",
    "#     model.gradient(y_data)\n",
    "    bias=model.b[0].reshape(bias.shape)\n",
    "\n",
    "    #### END YOUR CODE HERE ####\n",
    "    return bias"
   ]
  },
  {
   "cell_type": "code",
   "execution_count": 192,
   "metadata": {},
   "outputs": [
    {
     "name": "stdout",
     "output_type": "stream",
     "text": [
      "Epoch: 1/10\n",
      "Epoch: 2/10\n",
      "Epoch: 3/10\n",
      "Epoch: 4/10\n",
      "Epoch: 5/10\n",
      "Epoch: 6/10\n",
      "Epoch: 7/10\n",
      "Epoch: 8/10\n",
      "Epoch: 9/10\n",
      "Epoch: 10/10\n"
     ]
    },
    {
     "data": {
      "text/plain": [
       "array([-0.01399302,  0.08493271,  0.18380523,  0.28262629,  0.38139833,\n",
       "        0.48012455,  0.5788089 ,  0.67745614,  0.77607177,  0.87466206])"
      ]
     },
     "execution_count": 192,
     "metadata": {},
     "output_type": "execute_result"
    }
   ],
   "source": [
    "train_NN_gradient_descent(x_data, y_data, W)"
   ]
  },
  {
   "cell_type": "code",
   "execution_count": null,
   "metadata": {},
   "outputs": [],
   "source": []
  },
  {
   "cell_type": "code",
   "execution_count": null,
   "metadata": {},
   "outputs": [],
   "source": []
  },
  {
   "cell_type": "code",
   "execution_count": 145,
   "metadata": {},
   "outputs": [],
   "source": [
    "#HW1"
   ]
  },
  {
   "cell_type": "code",
   "execution_count": 169,
   "metadata": {},
   "outputs": [],
   "source": [
    "import numpy as np\n",
    "\n",
    "def sigma(z):\n",
    "    return 1. / (1 + np.exp(-z))\n",
    "def sigma_p(z):\n",
    "    return sigma(z)*(1.-sigma(z))\n",
    "\n",
    "class neurons(object):\n",
    "    def __init__(self, shape):\n",
    "        self.shape = shape\n",
    "        self.v = [np.zeros((n,1)) for n in shape]\n",
    "        self.z = [np.zeros((n,1)) for n in shape[1:]]\n",
    "        self.w = [np.random.randn(n,m) for n,m in zip(shape[1:],shape[:-1])]\n",
    "        self.b = [np.random.randn(n,1) for n in shape[1:]]\n",
    "        self.delw = [np.zeros(w.shape) for w in self.w]\n",
    "        self.delb = [np.zeros(b.shape) for b in self.b]\n",
    "\n",
    "    def predict(self, x):\n",
    "        self.v[0] = x.reshape(self.v[0].shape)\n",
    "        for l in range(len(self.shape)-1):\n",
    "            self.z[l] = np.dot(self.w[l],self.v[l])+self.b[l]\n",
    "            self.v[l+1] = sigma(self.z[l])\n",
    "        return self.v[-1]\n",
    "\n",
    "    def gradient(self, y):\n",
    "        for l in range(len(self.shape)-2,-1,-1):\n",
    "            if l==len(self.shape)-2:\n",
    "                  delta = (self.v[-1]-y.reshape(self.v[-1].shape))*sigma_p(self.z[l])\n",
    "            else: delta = np.dot(self.w[l+1].T,self.delb[l+1])*sigma_p(self.z[l])\n",
    "            self.delb[l] = delta\n",
    "            self.delw[l] = np.dot(delta,self.v[l].T)\n",
    "\n",
    "def calc_NN_gradients(x_data, y_data, W):\n",
    "    grad = np.zeros(10)\n",
    "    ### START YOUR CODE HERE ###\n",
    "    model = neurons([4,10,4])\n",
    "    x=np.zeros(94)\n",
    "    x[0:80] = np.array([W]*80)\n",
    "    x[80:84] = np.array([1]*4)\n",
    "\n",
    "    model.w[0] = x[:40].reshape(model.w[0].shape)\n",
    "    model.w[1] = x[40:80].reshape(model.w[1].shape)\n",
    "    model.b[1] = x[80:84].reshape(model.b[1].shape)\n",
    "    \n",
    "    bias=np.linspace(0.0,0.9,10)\n",
    "    x[84:94]=np.array([i for i in bias ])\n",
    "    model.b[0] = x[84:94].reshape(model.b[0].shape)\n",
    "    model.predict(x_data)\n",
    "    model.gradient(y_data)\n",
    "    grad=model.delb[0].reshape(grad.shape)\n",
    "\n",
    "    #### END YOUR CODE HERE ####\n",
    "    return grad\n"
   ]
  },
  {
   "cell_type": "code",
   "execution_count": null,
   "metadata": {},
   "outputs": [],
   "source": []
  },
  {
   "cell_type": "code",
   "execution_count": null,
   "metadata": {},
   "outputs": [],
   "source": []
  }
 ],
 "metadata": {
  "kernelspec": {
   "display_name": "Python 3",
   "language": "python",
   "name": "python3"
  },
  "language_info": {
   "codemirror_mode": {
    "name": "ipython",
    "version": 3
   },
   "file_extension": ".py",
   "mimetype": "text/x-python",
   "name": "python",
   "nbconvert_exporter": "python",
   "pygments_lexer": "ipython3",
   "version": "3.7.3"
  }
 },
 "nbformat": 4,
 "nbformat_minor": 2
}
